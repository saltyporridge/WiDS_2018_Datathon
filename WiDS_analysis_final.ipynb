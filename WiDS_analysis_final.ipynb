{
 "cells": [
  {
   "cell_type": "code",
   "execution_count": 1,
   "metadata": {},
   "outputs": [],
   "source": [
    "import pandas as pd\n",
    "import numpy as np\n",
    "import pandas_profiling\n",
    "from sklearn.model_selection import KFold\n",
    "from sklearn.model_selection import cross_val_score\n",
    "import xgboost as xgb\n",
    "from xgboost import plot_importance\n",
    "from xgboost import XGBClassifier\n",
    "from sklearn.model_selection import GridSearchCV \n",
    "import matplotlib.pyplot as plt\n",
    "%matplotlib inline \n",
    "\n",
    "# config\n",
    "pd.set_option(\"display.max_colwidth\", 200)"
   ]
  },
  {
   "cell_type": "code",
   "execution_count": 2,
   "metadata": {},
   "outputs": [],
   "source": [
    "# analysis config\n",
    "use_languages = False\n",
    "aggregate_sub_questions = True\n",
    "na_threshold = 0.1\n",
    "filter_columns = True"
   ]
  },
  {
   "cell_type": "code",
   "execution_count": 3,
   "metadata": {},
   "outputs": [
    {
     "name": "stderr",
     "output_type": "stream",
     "text": [
      "/Users/shuangziguo/miniconda3/lib/python3.6/site-packages/IPython/core/interactiveshell.py:2728: DtypeWarning: Columns (12,49,51,56,91,126,145,163,165,166,167,168,169,171,173,174,176,177,242,244,246,248,252,255,274,290,291,292,294,295,296,332,344,366,374,376,397,414,440,491,620,634,639,642,643,645,710,713,760,769,810,829,929,954,979,1001,1002,1003,1004,1005,1024,1037,1041,1043,1062,1086,1099,1100,1121,1129,1136,1152,1153,1166,1168,1182,1193,1204,1205,1207,1208,1216,1226,1228,1230,1232,1234) have mixed types. Specify dtype option on import or set low_memory=False.\n",
      "  interactivity=interactivity, compiler=compiler, result=result)\n",
      "/Users/shuangziguo/miniconda3/lib/python3.6/site-packages/IPython/core/interactiveshell.py:2728: DtypeWarning: Columns (11,13,48,50,55,90,125,144,162,163,164,166,168,169,170,171,172,174,176,241,243,245,247,251,254,273,289,291,292,293,295,296,312,313,314,331,343,365,373,375,396,413,439,490,619,623,630,633,638,642,644,669,712,759,768,788,809,828,928,953,978,1000,1001,1002,1003,1004,1023,1036,1040,1042,1063,1085,1098,1099,1120,1128,1135,1151,1152,1165,1167,1181,1192,1204,1205,1206,1207,1215,1225,1227,1229,1231,1233) have mixed types. Specify dtype option on import or set low_memory=False.\n",
      "  interactivity=interactivity, compiler=compiler, result=result)\n"
     ]
    }
   ],
   "source": [
    "train = pd.read_csv('train.csv')\n",
    "test = pd.read_csv('test.csv')"
   ]
  },
  {
   "cell_type": "markdown",
   "metadata": {},
   "source": [
    "### Read in code book"
   ]
  },
  {
   "cell_type": "code",
   "execution_count": 4,
   "metadata": {},
   "outputs": [],
   "source": [
    "# get descriptions for columns\n",
    "desc = pd.read_csv('WiDS_data_dictionary/Codebook-Table 1.csv')"
   ]
  },
  {
   "cell_type": "code",
   "execution_count": 5,
   "metadata": {},
   "outputs": [],
   "source": [
    "# make dictionary of column name to description to use later on\n",
    "desc = desc.assign(ColumnName2=desc['Column Name'].apply(lambda x: str(x).replace('_', '.')))\n",
    "desc = desc.assign(Description=desc.apply(lambda x: str(x['Question']).split(x['ColumnName2'], 1)[-1], axis=1))\n",
    "desc = desc.assign(Description=desc.Description.apply(lambda x: x[1:] if len(x) > 1 and x[0] == '.' else x))\n",
    "desc_dict = pd.Series(desc['Description'].values, index=desc['Column Name'].values).to_dict()"
   ]
  },
  {
   "cell_type": "code",
   "execution_count": 6,
   "metadata": {},
   "outputs": [],
   "source": [
    "# filter out main question category\n",
    "desc = desc.assign(MainQuestion=desc['Column Name'].apply(lambda x: str(x).split('_')[0]))"
   ]
  },
  {
   "cell_type": "markdown",
   "metadata": {},
   "source": [
    "### Basic manipulation of train and test dataset"
   ]
  },
  {
   "cell_type": "code",
   "execution_count": 7,
   "metadata": {},
   "outputs": [
    {
     "data": {
      "text/plain": [
       "(18255, 1235)"
      ]
     },
     "execution_count": 7,
     "metadata": {},
     "output_type": "execute_result"
    }
   ],
   "source": [
    "train.shape"
   ]
  },
  {
   "cell_type": "code",
   "execution_count": 8,
   "metadata": {},
   "outputs": [
    {
     "data": {
      "text/plain": [
       "(27285, 1234)"
      ]
     },
     "execution_count": 8,
     "metadata": {},
     "output_type": "execute_result"
    }
   ],
   "source": [
    "test.shape"
   ]
  },
  {
   "cell_type": "code",
   "execution_count": 9,
   "metadata": {},
   "outputs": [],
   "source": [
    "# sum up non-NaN values per column\n",
    "num_not_nan_train = train.apply(lambda x: sum(~pd.isnull(x)), axis=0)\n",
    "num_not_nan_test = test.apply(lambda x: sum(~pd.isnull(x)), axis=0)"
   ]
  },
  {
   "cell_type": "code",
   "execution_count": 10,
   "metadata": {},
   "outputs": [],
   "source": [
    "# filter out columns with no data\n",
    "nan_train_columns = list(num_not_nan_train[num_not_nan_train == 0].index)\n",
    "nan_test_columns = list(num_not_nan_test[num_not_nan_test == 0].index)\n",
    "train = train.drop(nan_train_columns, axis=1)\n",
    "test = test.drop(nan_test_columns, axis=1)"
   ]
  },
  {
   "cell_type": "code",
   "execution_count": 11,
   "metadata": {},
   "outputs": [],
   "source": [
    "# filter for common columns\n",
    "common_cols = list(set(train.columns).intersection(test.columns))"
   ]
  },
  {
   "cell_type": "code",
   "execution_count": 12,
   "metadata": {},
   "outputs": [],
   "source": [
    "train = train[common_cols + ['train_id', 'is_female']]\n",
    "test = test[common_cols + ['test_id']]"
   ]
  },
  {
   "cell_type": "markdown",
   "metadata": {},
   "source": [
    "### Sum up answers in the same question group"
   ]
  },
  {
   "cell_type": "code",
   "execution_count": 13,
   "metadata": {},
   "outputs": [],
   "source": [
    "num_sub_questions = desc[['MainQuestion', 'Column Name']].groupby('MainQuestion').count()"
   ]
  },
  {
   "cell_type": "code",
   "execution_count": 14,
   "metadata": {},
   "outputs": [],
   "source": [
    "mult_sub_questions = num_sub_questions[num_sub_questions['Column Name'] > 1]"
   ]
  },
  {
   "cell_type": "code",
   "execution_count": 15,
   "metadata": {
    "scrolled": true
   },
   "outputs": [
    {
     "data": {
      "text/html": [
       "<div>\n",
       "<style scoped>\n",
       "    .dataframe tbody tr th:only-of-type {\n",
       "        vertical-align: middle;\n",
       "    }\n",
       "\n",
       "    .dataframe tbody tr th {\n",
       "        vertical-align: top;\n",
       "    }\n",
       "\n",
       "    .dataframe thead th {\n",
       "        text-align: right;\n",
       "    }\n",
       "</style>\n",
       "<table border=\"1\" class=\"dataframe\">\n",
       "  <thead>\n",
       "    <tr style=\"text-align: right;\">\n",
       "      <th></th>\n",
       "      <th>Column Name</th>\n",
       "    </tr>\n",
       "    <tr>\n",
       "      <th>MainQuestion</th>\n",
       "      <th></th>\n",
       "    </tr>\n",
       "  </thead>\n",
       "  <tbody>\n",
       "    <tr>\n",
       "      <th>DL4</th>\n",
       "      <td>25</td>\n",
       "    </tr>\n",
       "    <tr>\n",
       "      <th>FF16</th>\n",
       "      <td>24</td>\n",
       "    </tr>\n",
       "    <tr>\n",
       "      <th>IFI10</th>\n",
       "      <td>24</td>\n",
       "    </tr>\n",
       "    <tr>\n",
       "      <th>IFI11</th>\n",
       "      <td>24</td>\n",
       "    </tr>\n",
       "    <tr>\n",
       "      <th>IFI12</th>\n",
       "      <td>24</td>\n",
       "    </tr>\n",
       "  </tbody>\n",
       "</table>\n",
       "</div>"
      ],
      "text/plain": [
       "              Column Name\n",
       "MainQuestion             \n",
       "DL4                    25\n",
       "FF16                   24\n",
       "IFI10                  24\n",
       "IFI11                  24\n",
       "IFI12                  24"
      ]
     },
     "execution_count": 15,
     "metadata": {},
     "output_type": "execute_result"
    }
   ],
   "source": [
    "mult_sub_questions.sort_values('Column Name', ascending=False).head(5)"
   ]
  },
  {
   "cell_type": "code",
   "execution_count": 16,
   "metadata": {},
   "outputs": [],
   "source": [
    "# aggregate columns with more than 3 sub questions\n",
    "mult_sub_questions = mult_sub_questions[mult_sub_questions['Column Name'] > 15]"
   ]
  },
  {
   "cell_type": "code",
   "execution_count": 17,
   "metadata": {},
   "outputs": [],
   "source": [
    "if aggregate_sub_questions:\n",
    "    for col in mult_sub_questions['Column Name'].index:\n",
    "        sub_questions = desc.loc[desc['MainQuestion'] == col, 'Column Name']\n",
    "        # have to write this properly, right now it seems to work on looking for last sub column\n",
    "        if sub_questions.iloc[-1] in train.columns:\n",
    "            train[col] = train[sub_questions].sum(axis=1)\n",
    "            train = train.drop(sub_questions, axis=1)\n",
    "        if sub_questions.iloc[-1] in test.columns:    \n",
    "            test[col] = test[sub_questions].sum(axis=1)\n",
    "            test = test.drop(sub_questions, axis=1)"
   ]
  },
  {
   "cell_type": "code",
   "execution_count": 18,
   "metadata": {},
   "outputs": [
    {
     "data": {
      "text/plain": [
       "(18255, 443)"
      ]
     },
     "execution_count": 18,
     "metadata": {},
     "output_type": "execute_result"
    }
   ],
   "source": [
    "sub_train = train.dropna(thresh=na_threshold*len(train), axis=1)\n",
    "sub_train.shape"
   ]
  },
  {
   "cell_type": "markdown",
   "metadata": {},
   "source": [
    "### Transform language columns "
   ]
  },
  {
   "cell_type": "code",
   "execution_count": 19,
   "metadata": {},
   "outputs": [],
   "source": [
    "# transform languages in training set, split up multiple languages into separate columns\n",
    "# lang_cols = ['language_1', 'language_2', 'language_3','language_4']\n",
    "df1 = sub_train.LN2_RIndLngBEOth.str.split('&', expand=True)\n",
    "df1.columns = ['language_1', 'language_2']\n",
    "df2 = sub_train.LN2_WIndLngBEOth.str.split('&', expand=True)\n",
    "df2.columns = ['language_3','language_4']\n",
    "ext_train = pd.concat([sub_train, df1, df2], axis=1)"
   ]
  },
  {
   "cell_type": "code",
   "execution_count": 20,
   "metadata": {},
   "outputs": [],
   "source": [
    "# transform languages for test set\n",
    "df1 = test.LN2_RIndLngBEOth.str.split('&', expand=True)\n",
    "df1.columns = ['language_1', 'language_2']\n",
    "df2 = test.LN2_WIndLngBEOth.str.split('&', expand=True)\n",
    "df2.columns = ['language_3','language_4']\n",
    "ext_test = pd.concat([test, df1, df2], axis=1)"
   ]
  },
  {
   "cell_type": "code",
   "execution_count": 21,
   "metadata": {},
   "outputs": [],
   "source": [
    "if use_languages:\n",
    "    train_to_use = ext_train\n",
    "else:\n",
    "    train_to_use = sub_train\n",
    "train_variables = train_to_use.drop(['is_female', 'train_id', 'LN2_RIndLngBEOth', 'LN2_WIndLngBEOth'], axis=1)\n",
    "target = train_to_use['is_female'].values\n",
    "test_variables = ext_test[train_variables.columns]"
   ]
  },
  {
   "cell_type": "markdown",
   "metadata": {},
   "source": [
    "### Measure disparity"
   ]
  },
  {
   "cell_type": "code",
   "execution_count": 22,
   "metadata": {},
   "outputs": [],
   "source": [
    "# negative number means more females picked the answer\n",
    "def get_disparity(data, value_col, split_col):\n",
    "    col_hist = data[['train_id', value_col, split_col]].groupby([value_col, split_col]).count()\n",
    "    col_hist = col_hist.reset_index()\n",
    "    col_vals = np.unique(col_hist[col])\n",
    "    # make sure if no woman or man answered question that summary stats shows 0 for that category\n",
    "    full_indices = pd.DataFrame({col: list(col_vals)*2, 'is_female': [0]*len(col_vals) + [1]*len(col_vals)})\n",
    "    col_hist = pd.merge(col_hist, full_indices, on=[col, 'is_female'], how='outer')\n",
    "    col_hist.loc[pd.isnull(col_hist['train_id']), 'train_id'] = 0\n",
    "    col_hist = col_hist.sort_values(split_col)\n",
    "    col_hist = col_hist[[value_col, 'train_id']].groupby(value_col).apply(lambda x: int(x['train_id'].iloc[0] - x['train_id'].iloc[1]))\n",
    "    return col_hist"
   ]
  },
  {
   "cell_type": "code",
   "execution_count": 23,
   "metadata": {},
   "outputs": [],
   "source": [
    "disparities = pd.DataFrame()\n",
    "for col in train_variables.columns:\n",
    "    col_hist = get_disparity(train_to_use, col, 'is_female')\n",
    "    abs_col_hist = abs(col_hist)\n",
    "    pct_col_hist = abs_col_hist / sum(~pd.isnull(train_to_use[col])) * 100\n",
    "    question = desc_dict[col] if col in desc_dict.keys() else col\n",
    "    answer_string = desc.loc[desc['Column Name'] == col, 'Values']    \n",
    "    answer_dict = {}\n",
    "    if len(answer_string) > 0:\n",
    "        answers = answer_string.iloc[0].split('\\n')\n",
    "        [answer_dict.update({x.split('=')[0]: x.split('=')[1]}) for x in answers if '=' in x]\n",
    "        answer_desc = [answer_dict[str(int(x))] if str(int(x)) in answer_dict.keys() else np.NaN for x in \n",
    "                       list(col_hist.index)]\n",
    "    else:\n",
    "        answer_desc = pd.Series([np.NaN]*len(col_hist))\n",
    "    col_df = pd.DataFrame({'Question': question, 'Answer': col_hist.index, 'AnswerDesc': answer_desc,\n",
    "                           'Disparity': col_hist.values, 'AbsDisparity': abs_col_hist.values, \n",
    "                           'PctDisparity': pct_col_hist.values,'Column': col})\n",
    "    disparities = disparities.append(col_df)"
   ]
  },
  {
   "cell_type": "code",
   "execution_count": 24,
   "metadata": {
    "scrolled": false
   },
   "outputs": [
    {
     "data": {
      "text/html": [
       "<div>\n",
       "<style scoped>\n",
       "    .dataframe tbody tr th:only-of-type {\n",
       "        vertical-align: middle;\n",
       "    }\n",
       "\n",
       "    .dataframe tbody tr th {\n",
       "        vertical-align: top;\n",
       "    }\n",
       "\n",
       "    .dataframe thead th {\n",
       "        text-align: right;\n",
       "    }\n",
       "</style>\n",
       "<table border=\"1\" class=\"dataframe\">\n",
       "  <thead>\n",
       "    <tr style=\"text-align: right;\">\n",
       "      <th></th>\n",
       "      <th>Question</th>\n",
       "      <th>AnswerDesc</th>\n",
       "      <th>Disparity</th>\n",
       "      <th>PctDisparity</th>\n",
       "    </tr>\n",
       "  </thead>\n",
       "  <tbody>\n",
       "    <tr>\n",
       "      <th>1</th>\n",
       "      <td>Who is the main income earner in your household?</td>\n",
       "      <td>Somebody else</td>\n",
       "      <td>-6340</td>\n",
       "      <td>34.730211</td>\n",
       "    </tr>\n",
       "    <tr>\n",
       "      <th>1</th>\n",
       "      <td>How are you related to the household head?</td>\n",
       "      <td>Spouse</td>\n",
       "      <td>-5893</td>\n",
       "      <td>32.281567</td>\n",
       "    </tr>\n",
       "    <tr>\n",
       "      <th>6</th>\n",
       "      <td>In the past 12 months, were you mainly...?</td>\n",
       "      <td>Housewife or stay-at-home husband doing household chores</td>\n",
       "      <td>-5398</td>\n",
       "      <td>29.569981</td>\n",
       "    </tr>\n",
       "    <tr>\n",
       "      <th>0</th>\n",
       "      <td>Who is the main income earner in your household?</td>\n",
       "      <td>Myself</td>\n",
       "      <td>4985</td>\n",
       "      <td>27.307587</td>\n",
       "    </tr>\n",
       "    <tr>\n",
       "      <th>1</th>\n",
       "      <td>Who decides on who should have a phone in your household?</td>\n",
       "      <td>My spouse</td>\n",
       "      <td>-4745</td>\n",
       "      <td>27.117385</td>\n",
       "    </tr>\n",
       "    <tr>\n",
       "      <th>0</th>\n",
       "      <td>How are you related to the household head?</td>\n",
       "      <td>Myself</td>\n",
       "      <td>4295</td>\n",
       "      <td>23.527801</td>\n",
       "    </tr>\n",
       "    <tr>\n",
       "      <th>1</th>\n",
       "      <td>What or who do you depend on the most for financial advice?</td>\n",
       "      <td>Spouse</td>\n",
       "      <td>-3962</td>\n",
       "      <td>21.703643</td>\n",
       "    </tr>\n",
       "    <tr>\n",
       "      <th>0</th>\n",
       "      <td>Who decides on who should have a phone in your household?</td>\n",
       "      <td>Myself</td>\n",
       "      <td>3961</td>\n",
       "      <td>22.636873</td>\n",
       "    </tr>\n",
       "    <tr>\n",
       "      <th>1</th>\n",
       "      <td>Do you personally have an active/working SIM card?</td>\n",
       "      <td>No/not sure</td>\n",
       "      <td>-3943</td>\n",
       "      <td>21.599562</td>\n",
       "    </tr>\n",
       "    <tr>\n",
       "      <th>0</th>\n",
       "      <td>How did you obtain your phone?</td>\n",
       "      <td>I bought it myself</td>\n",
       "      <td>3785</td>\n",
       "      <td>42.423223</td>\n",
       "    </tr>\n",
       "    <tr>\n",
       "      <th>1</th>\n",
       "      <td>Do you personally own a mobile phone?</td>\n",
       "      <td>No</td>\n",
       "      <td>-3757</td>\n",
       "      <td>20.580663</td>\n",
       "    </tr>\n",
       "    <tr>\n",
       "      <th>1</th>\n",
       "      <td>Who controls assets (i.e., savings, land, and livestock) in your household?</td>\n",
       "      <td>Spouse</td>\n",
       "      <td>-2966</td>\n",
       "      <td>16.247603</td>\n",
       "    </tr>\n",
       "    <tr>\n",
       "      <th>1</th>\n",
       "      <td>Who decides what kind of financial services your household uses?</td>\n",
       "      <td>Spouse</td>\n",
       "      <td>-2935</td>\n",
       "      <td>16.077787</td>\n",
       "    </tr>\n",
       "    <tr>\n",
       "      <th>1</th>\n",
       "      <td>Who decides what kind of financial services you can personally use?</td>\n",
       "      <td>Spouse</td>\n",
       "      <td>-2928</td>\n",
       "      <td>16.039441</td>\n",
       "    </tr>\n",
       "    <tr>\n",
       "      <th>1</th>\n",
       "      <td>Do you have a secondary job/jobs?</td>\n",
       "      <td>No</td>\n",
       "      <td>2905</td>\n",
       "      <td>32.284952</td>\n",
       "    </tr>\n",
       "  </tbody>\n",
       "</table>\n",
       "</div>"
      ],
      "text/plain": [
       "                                                                      Question  \\\n",
       "1                             Who is the main income earner in your household?   \n",
       "1                                  How are you related to the household head?    \n",
       "6                                   In the past 12 months, were you mainly...?   \n",
       "0                             Who is the main income earner in your household?   \n",
       "1                    Who decides on who should have a phone in your household?   \n",
       "0                                  How are you related to the household head?    \n",
       "1                  What or who do you depend on the most for financial advice?   \n",
       "0                    Who decides on who should have a phone in your household?   \n",
       "1                           Do you personally have an active/working SIM card?   \n",
       "0                                               How did you obtain your phone?   \n",
       "1                                        Do you personally own a mobile phone?   \n",
       "1  Who controls assets (i.e., savings, land, and livestock) in your household?   \n",
       "1             Who decides what kind of financial services your household uses?   \n",
       "1          Who decides what kind of financial services you can personally use?   \n",
       "1                                            Do you have a secondary job/jobs?   \n",
       "\n",
       "                                                 AnswerDesc  Disparity  \\\n",
       "1                                             Somebody else      -6340   \n",
       "1                                                    Spouse      -5893   \n",
       "6  Housewife or stay-at-home husband doing household chores      -5398   \n",
       "0                                                    Myself       4985   \n",
       "1                                                My spouse       -4745   \n",
       "0                                                    Myself       4295   \n",
       "1                                                    Spouse      -3962   \n",
       "0                                                    Myself       3961   \n",
       "1                                               No/not sure      -3943   \n",
       "0                                        I bought it myself       3785   \n",
       "1                                                        No      -3757   \n",
       "1                                                    Spouse      -2966   \n",
       "1                                                    Spouse      -2935   \n",
       "1                                                    Spouse      -2928   \n",
       "1                                                        No       2905   \n",
       "\n",
       "   PctDisparity  \n",
       "1     34.730211  \n",
       "1     32.281567  \n",
       "6     29.569981  \n",
       "0     27.307587  \n",
       "1     27.117385  \n",
       "0     23.527801  \n",
       "1     21.703643  \n",
       "0     22.636873  \n",
       "1     21.599562  \n",
       "0     42.423223  \n",
       "1     20.580663  \n",
       "1     16.247603  \n",
       "1     16.077787  \n",
       "1     16.039441  \n",
       "1     32.284952  "
      ]
     },
     "execution_count": 24,
     "metadata": {},
     "output_type": "execute_result"
    }
   ],
   "source": [
    "disp_cols = ['Question', 'AnswerDesc', 'Disparity', 'PctDisparity']\n",
    "disparities = disparities.sort_values('AbsDisparity', ascending=False)\n",
    "disparities[disp_cols].iloc[0:15]\n",
    "# compared to men women are mainly not the main income earner, more frequently they are housewifes at home, \n",
    "# have no financial decision power, no mobile phone, do not know how to use a phone, have no driver's license, \n",
    "# do not know how to read or write in English, have no official identification, don't know how to use a bank"
   ]
  },
  {
   "cell_type": "code",
   "execution_count": 25,
   "metadata": {},
   "outputs": [],
   "source": [
    "# analyse total disparity of all answers by question\n",
    "disp_by_col = disparities[['Column', 'Question', 'AbsDisparity', 'Disparity', 'PctDisparity']].groupby(['Column', 'Question']).sum()\n",
    "disp_by_col = disp_by_col.reset_index()"
   ]
  },
  {
   "cell_type": "code",
   "execution_count": 26,
   "metadata": {},
   "outputs": [
    {
     "data": {
      "text/html": [
       "<div>\n",
       "<style scoped>\n",
       "    .dataframe tbody tr th:only-of-type {\n",
       "        vertical-align: middle;\n",
       "    }\n",
       "\n",
       "    .dataframe tbody tr th {\n",
       "        vertical-align: top;\n",
       "    }\n",
       "\n",
       "    .dataframe thead th {\n",
       "        text-align: right;\n",
       "    }\n",
       "</style>\n",
       "<table border=\"1\" class=\"dataframe\">\n",
       "  <thead>\n",
       "    <tr style=\"text-align: right;\">\n",
       "      <th></th>\n",
       "      <th>Column</th>\n",
       "      <th>Question</th>\n",
       "      <th>AbsDisparity</th>\n",
       "      <th>Disparity</th>\n",
       "      <th>PctDisparity</th>\n",
       "    </tr>\n",
       "  </thead>\n",
       "  <tbody>\n",
       "    <tr>\n",
       "      <th>0</th>\n",
       "      <td>AA14</td>\n",
       "      <td>AA14</td>\n",
       "      <td>4449</td>\n",
       "      <td>-1355</td>\n",
       "      <td>24.371405</td>\n",
       "    </tr>\n",
       "    <tr>\n",
       "      <th>1</th>\n",
       "      <td>AA15</td>\n",
       "      <td>AA15</td>\n",
       "      <td>3891</td>\n",
       "      <td>-1355</td>\n",
       "      <td>21.314708</td>\n",
       "    </tr>\n",
       "    <tr>\n",
       "      <th>2</th>\n",
       "      <td>AA3</td>\n",
       "      <td>Zone</td>\n",
       "      <td>1745</td>\n",
       "      <td>-1355</td>\n",
       "      <td>9.559025</td>\n",
       "    </tr>\n",
       "    <tr>\n",
       "      <th>3</th>\n",
       "      <td>AA4</td>\n",
       "      <td>AA4</td>\n",
       "      <td>2665</td>\n",
       "      <td>-1355</td>\n",
       "      <td>14.598740</td>\n",
       "    </tr>\n",
       "    <tr>\n",
       "      <th>4</th>\n",
       "      <td>AA5</td>\n",
       "      <td>Town Class</td>\n",
       "      <td>377</td>\n",
       "      <td>-377</td>\n",
       "      <td>6.669025</td>\n",
       "    </tr>\n",
       "    <tr>\n",
       "      <th>5</th>\n",
       "      <td>AA6</td>\n",
       "      <td>Village Class</td>\n",
       "      <td>978</td>\n",
       "      <td>-978</td>\n",
       "      <td>7.760673</td>\n",
       "    </tr>\n",
       "    <tr>\n",
       "      <th>6</th>\n",
       "      <td>AA7</td>\n",
       "      <td>AA7</td>\n",
       "      <td>4753</td>\n",
       "      <td>-1355</td>\n",
       "      <td>26.036702</td>\n",
       "    </tr>\n",
       "    <tr>\n",
       "      <th>7</th>\n",
       "      <td>DG1</td>\n",
       "      <td>DG1</td>\n",
       "      <td>2307</td>\n",
       "      <td>-1355</td>\n",
       "      <td>12.637634</td>\n",
       "    </tr>\n",
       "    <tr>\n",
       "      <th>8</th>\n",
       "      <td>DG10b</td>\n",
       "      <td>DG10b</td>\n",
       "      <td>1115</td>\n",
       "      <td>-1113</td>\n",
       "      <td>13.536482</td>\n",
       "    </tr>\n",
       "    <tr>\n",
       "      <th>9</th>\n",
       "      <td>DG10c</td>\n",
       "      <td>DG10c</td>\n",
       "      <td>1244</td>\n",
       "      <td>-1238</td>\n",
       "      <td>18.283363</td>\n",
       "    </tr>\n",
       "  </tbody>\n",
       "</table>\n",
       "</div>"
      ],
      "text/plain": [
       "  Column        Question  AbsDisparity  Disparity  PctDisparity\n",
       "0   AA14            AA14          4449      -1355     24.371405\n",
       "1   AA15            AA15          3891      -1355     21.314708\n",
       "2    AA3            Zone          1745      -1355      9.559025\n",
       "3    AA4             AA4          2665      -1355     14.598740\n",
       "4    AA5      Town Class           377       -377      6.669025\n",
       "5    AA6   Village Class           978       -978      7.760673\n",
       "6    AA7             AA7          4753      -1355     26.036702\n",
       "7    DG1             DG1          2307      -1355     12.637634\n",
       "8  DG10b           DG10b          1115      -1113     13.536482\n",
       "9  DG10c           DG10c          1244      -1238     18.283363"
      ]
     },
     "execution_count": 26,
     "metadata": {},
     "output_type": "execute_result"
    }
   ],
   "source": [
    "disp_by_col.head(10)"
   ]
  },
  {
   "cell_type": "code",
   "execution_count": 27,
   "metadata": {},
   "outputs": [
    {
     "data": {
      "text/plain": [
       "32"
      ]
     },
     "execution_count": 27,
     "metadata": {},
     "output_type": "execute_result"
    }
   ],
   "source": [
    "disp_col = disp_by_col.sort_values('AbsDisparity', ascending=False)['Column'].values\n",
    "# disp_by_col.loc[(disp_by_col.AbsDisparity < 500) &  (disp_by_col.PctDisparity > 5)]\n",
    "low_disp_col = disp_by_col.loc[(disp_by_col.AbsDisparity < 500) &  (disp_by_col.PctDisparity < 5), 'Column'].values\n",
    "len(low_disp_col)"
   ]
  },
  {
   "cell_type": "code",
   "execution_count": 28,
   "metadata": {},
   "outputs": [
    {
     "data": {
      "image/png": "[encoded data removed]",
      "text/plain": [
       "<matplotlib.figure.Figure at 0x1a24769e80>"
      ]
     },
     "metadata": {},
     "output_type": "display_data"
    }
   ],
   "source": [
    "# plot number of women and men picking each answer for a question\n",
    "col = disp_col[2]\n",
    "col_hist = sub_train[[col, 'is_female', 'train_id']].groupby([col, 'is_female']).count()\n",
    "col_hist = col_hist.reset_index()\n",
    "answers = desc.loc[desc['Column Name'] == col, 'Values'].iloc[0].split('\\n')\n",
    "answer_dict = {}\n",
    "[answer_dict.update({x.split('=')[0]: x.split('=')[1]}) for x in answers]\n",
    "col_hist = col_hist.assign(AnswerDesc=col_hist[col].apply(lambda x: answer_dict[str(x)]))\n",
    "num_answers = len(answer_dict)\n",
    "ticks = np.arange(num_answers) + 0.5\n",
    "fig, ax = plt.subplots()\n",
    "ax.bar(ticks-0.3, col_hist.loc[col_hist['is_female'] == 1, 'train_id'], width=0.3, align='edge')\n",
    "ax.bar(ticks, col_hist.loc[col_hist['is_female'] == 0, 'train_id'], width=0.3, align='edge')\n",
    "ax.set_xticks(ticks)\n",
    "ax.set_xticklabels(col_hist.loc[col_hist['is_female'] == 0, 'AnswerDesc'])\n",
    "plt.title(desc_dict[col])\n",
    "fig.autofmt_xdate()"
   ]
  },
  {
   "cell_type": "markdown",
   "metadata": {},
   "source": [
    "### Filter out columns with low disparity"
   ]
  },
  {
   "cell_type": "code",
   "execution_count": 29,
   "metadata": {},
   "outputs": [],
   "source": [
    "filt_cols = [x for x in train_variables.columns if x not in low_disp_col]\n",
    "filt_train = train_variables[filt_cols]\n",
    "filt_test = ext_test[filt_cols]"
   ]
  },
  {
   "cell_type": "markdown",
   "metadata": {},
   "source": [
    "### Convert train and test set together"
   ]
  },
  {
   "cell_type": "code",
   "execution_count": 30,
   "metadata": {},
   "outputs": [],
   "source": [
    "if filter_columns:\n",
    "    train_test = pd.concat((filt_train, filt_test)) \n",
    "else:\n",
    "    train_test = pd.concat((train_variables, test_variables))"
   ]
  },
  {
   "cell_type": "code",
   "execution_count": 31,
   "metadata": {},
   "outputs": [],
   "source": [
    "desc = desc.assign(NumVariables=desc.Values.apply(lambda x: str(x).count('\\n')+1))\n",
    "var_to_dummies = desc[desc.NumVariables > 2].iloc[:, 0].values\n",
    "sub_var_to_dummies = list(set(list(var_to_dummies)).intersection(train_test.columns))"
   ]
  },
  {
   "cell_type": "code",
   "execution_count": 32,
   "metadata": {},
   "outputs": [],
   "source": [
    "new_train_test = pd.get_dummies(train_test, columns=sub_var_to_dummies).values"
   ]
  },
  {
   "cell_type": "code",
   "execution_count": 33,
   "metadata": {},
   "outputs": [],
   "source": [
    "new_train = new_train_test[0:len(train)]\n",
    "new_test = new_train_test[len(train):len(train)+len(test)]"
   ]
  },
  {
   "cell_type": "markdown",
   "metadata": {},
   "source": [
    "### Fit XGboost model"
   ]
  },
  {
   "cell_type": "code",
   "execution_count": null,
   "metadata": {
    "scrolled": true
   },
   "outputs": [],
   "source": [
    "# do grid search over max depth and colsample\n",
    "xgbc = XGBClassifier(objective='binary:logistic', nthread=4, silent=False, n_estimators=2000,\n",
    "                    subsample=0.7, learning_rate=0.1)\n",
    "test_params = {'max_depth': [5, 8, 10],\n",
    "               'colsample_bytree': [0.3, 0.5, 0.7]\n",
    "              }\n",
    "\n",
    "gs = GridSearchCV(estimator=xgbc, param_grid=test_params, cv=5)\n",
    "gs.fit(new_train, target)\n",
    "gs.best_params_"
   ]
  },
  {
   "cell_type": "code",
   "execution_count": null,
   "metadata": {},
   "outputs": [],
   "source": [
    "xgtrain = xgb.DMatrix(new_train, target)\n",
    "n_folds = 5\n",
    "early_stopping = 10\n",
    "params = {'eta': 0.01, 'max_depth': 10, 'subsample': 0.7, 'colsample_bytree': 0.5, 'objective': 'binary:logistic', 'seed': 99, 'silent': 1, 'eval_metric':'auc', 'nthread':4}\n",
    "bst = xgb.train(params, xgtrain)\n",
    "bst.cv = xgb.cv(params, xgtrain, 5000, nfold=n_folds, early_stopping_rounds=early_stopping, verbose_eval=1)"
   ]
  },
  {
   "cell_type": "code",
   "execution_count": 34,
   "metadata": {},
   "outputs": [
    {
     "data": {
      "text/plain": [
       "XGBClassifier(base_score=0.5, booster='gbtree', colsample_bylevel=1,\n",
       "       colsample_bytree=0.7, gamma=0, learning_rate=0.01, max_delta_step=0,\n",
       "       max_depth=10, min_child_weight=1, missing=None, n_estimators=1000,\n",
       "       n_jobs=1, nthread=4, objective='binary:logistic', random_state=0,\n",
       "       reg_alpha=0, reg_lambda=1, scale_pos_weight=1, seed=None,\n",
       "       silent=False, subsample=0.5)"
      ]
     },
     "execution_count": 34,
     "metadata": {},
     "output_type": "execute_result"
    }
   ],
   "source": [
    "xgbc = XGBClassifier(objective='binary:logistic', nthread=4, silent=False, learning_rate=0.01,\n",
    "                     max_depth=10, colsample_bytree=0.7, subsample=0.5, n_estimators=1000)\n",
    "xgbc.fit(new_train, target)"
   ]
  },
  {
   "cell_type": "code",
   "execution_count": 182,
   "metadata": {
    "scrolled": false
   },
   "outputs": [
    {
     "data": {
      "image/png": "[encoded data removed]",
      "text/plain": [
       "<matplotlib.figure.Figure at 0x1a1ae83e10>"
      ]
     },
     "metadata": {},
     "output_type": "display_data"
    }
   ],
   "source": [
    "ax = plot_importance(xgbc, max_num_features=30)\n",
    "ax.figure.set_size_inches(15, 8)"
   ]
  },
  {
   "cell_type": "code",
   "execution_count": 71,
   "metadata": {},
   "outputs": [],
   "source": [
    "params = {'eta': 0.01, 'max_depth': 10, 'subsample': 0.7, 'colsample_bytree': 0.5, 'objective': 'binary:logistic', \n",
    "          'seed': 10, 'silent': 0, 'eval_metric':'auc', 'nthread': 4}\n",
    "bst = xgb.train(params, xgtrain, num_boost_round=850)"
   ]
  },
  {
   "cell_type": "markdown",
   "metadata": {},
   "source": [
    "### Predict for train set"
   ]
  },
  {
   "cell_type": "code",
   "execution_count": 72,
   "metadata": {},
   "outputs": [],
   "source": [
    "xg_train2 = xgb.DMatrix(new_train)"
   ]
  },
  {
   "cell_type": "code",
   "execution_count": 73,
   "metadata": {},
   "outputs": [
    {
     "data": {
      "text/plain": [
       "array([0.7519793 , 0.995135  , 0.99397886, ..., 0.01049043, 0.01183765,\n",
       "       0.99277556], dtype=float32)"
      ]
     },
     "execution_count": 73,
     "metadata": {},
     "output_type": "execute_result"
    }
   ],
   "source": [
    "predicted_train = bst.predict(xg_train2)\n",
    "predicted_train"
   ]
  },
  {
   "cell_type": "code",
   "execution_count": 75,
   "metadata": {},
   "outputs": [
    {
     "data": {
      "text/plain": [
       "7.026137881949916"
      ]
     },
     "execution_count": 75,
     "metadata": {},
     "output_type": "execute_result"
    }
   ],
   "source": [
    "100. * sum(abs(predicted_train - target)) / len(target)"
   ]
  },
  {
   "cell_type": "markdown",
   "metadata": {},
   "source": [
    "### Predict for test set"
   ]
  },
  {
   "cell_type": "code",
   "execution_count": 77,
   "metadata": {},
   "outputs": [],
   "source": [
    "xg_test = xgb.DMatrix(new_test)\n",
    "predicted_test = bst.predict(xg_test)"
   ]
  },
  {
   "cell_type": "code",
   "execution_count": 78,
   "metadata": {},
   "outputs": [],
   "source": [
    "predicted_df = pd.DataFrame({'test_id': test['test_id'].values, 'is_female': list(predicted_test)})\n",
    "predicted_df.to_csv('0.1_10_0.5_agg_filt_submission.csv', index=False)"
   ]
  }
 ],
 "metadata": {
  "kernelspec": {
   "display_name": "Python 3",
   "language": "python",
   "name": "python3"
  },
  "language_info": {
   "codemirror_mode": {
    "name": "ipython",
    "version": 3
   },
   "file_extension": ".py",
   "mimetype": "text/x-python",
   "name": "python",
   "nbconvert_exporter": "python",
   "pygments_lexer": "ipython3",
   "version": "3.6.3"
  }
 },
 "nbformat": 4,
 "nbformat_minor": 2
}
